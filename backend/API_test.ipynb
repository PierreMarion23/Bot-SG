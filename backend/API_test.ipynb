{
 "cells": [
  {
   "cell_type": "code",
   "execution_count": 1,
   "metadata": {
    "collapsed": true
   },
   "outputs": [],
   "source": [
    "import requests"
   ]
  },
  {
   "cell_type": "code",
   "execution_count": 10,
   "metadata": {
    "collapsed": true
   },
   "outputs": [],
   "source": [
    "url_init = 'http://localhost:5099/api/init'\n",
    "url_exploration = 'http://localhost:5099/api/exploration'\n",
    "url_compute = 'http://localhost:5099/api/compute'"
   ]
  },
  {
   "cell_type": "code",
   "execution_count": 13,
   "metadata": {},
   "outputs": [
    {
     "name": "stdout",
     "output_type": "stream",
     "text": [
      "200\n"
     ]
    }
   ],
   "source": [
    "# Test init\n",
    "req = requests.get(url=url_init)\n",
    "print(req.status_code)"
   ]
  },
  {
   "cell_type": "code",
   "execution_count": 14,
   "metadata": {},
   "outputs": [
    {
     "data": {
      "text/plain": [
       "{'cat_values': {'buy_back': {'__field_name': 'creation_date\\ndata_bool2\\ndata_bool_buy_back\\ndata_categorical_buy_back\\ndata_date_buy_back\\ndata_num_buy_back\\ngeographic\\nindex\\nsector\\n',\n",
       "   'data_bool2': 'False\\nTrue\\nNone',\n",
       "   'data_bool_buy_back': 'False\\nTrue\\nNone',\n",
       "   'data_categorical_buy_back': 'nsor\\nikwievob\\nrprhi\\nys\\nuohich',\n",
       "   'geographic': 'GB\\nItaly\\nUSA\\nFrance\\nGermany\\nNone\\nSpain',\n",
       "   'index': 'Index1\\nIndex2\\nIndex3\\nNone\\nIndex5\\nIndex4\\nIndex6',\n",
       "   'sector': 'Farming\\nNone\\nTaxi_driving\\nIndustry\\nCS\\nBanking\\nStrategy'},\n",
       "  'merger_acquisition': {'__field_name': 'creation_date\\ndata_bool2\\ndata_bool_merger_acquisition\\ndata_categorical_merger_acquisition\\ndata_date_merger_acquisition\\ndata_num_merger_acquisition\\ngeographic\\nindex\\nsector\\n',\n",
       "   'data_bool2': 'False\\nTrue\\nNone',\n",
       "   'data_bool_merger_acquisition': 'False\\nTrue\\nNone',\n",
       "   'data_categorical_merger_acquisition': 'hahok\\nbmil\\ngplvkyba\\nyd\\nxxt',\n",
       "   'geographic': 'GB\\nItaly\\nUSA\\nFrance\\nGermany\\nNone\\nSpain',\n",
       "   'index': 'Index1\\nIndex2\\nIndex3\\nNone\\nIndex5\\nIndex4\\nIndex6',\n",
       "   'sector': 'Farming\\nNone\\nTaxi_driving\\nIndustry\\nCS\\nBanking\\nStrategy'}},\n",
       " 'common': {'ca_type': 'merger_acquisition,Merger&Acquisition,ma\\nbuy_back\\noptional_dividend\\nright_issue\\nspin_off\\nconvertible_bond',\n",
       "  'computation': 'sum\\ncount\\naverage\\nmedian\\nstandard deviation',\n",
       "  'geographic': 'geo 1\\ngeo 2\\ngeo 3\\ngeo 4\\ngeo 5\\ngeo 6',\n",
       "  'index': 'index 1\\nindex 2\\nindex 3\\nindex 4\\nindex 5\\nindex 6',\n",
       "  'sector': 'sector 1\\nsector 2\\nsector 3\\nsector 4\\nsector 5\\nsector 6'},\n",
       " 'types': {'buy_back': {'creation_date': 'date',\n",
       "   'data_bool2': 'category',\n",
       "   'data_bool_buy_back': 'category',\n",
       "   'data_categorical_buy_back': 'category',\n",
       "   'data_date_buy_back': 'date',\n",
       "   'data_num_buy_back': 'number',\n",
       "   'geographic': 'category',\n",
       "   'index': 'category',\n",
       "   'sector': 'category'},\n",
       "  'merger_acquisition': {'creation_date': 'date',\n",
       "   'data_bool2': 'category',\n",
       "   'data_bool_merger_acquisition': 'category',\n",
       "   'data_categorical_merger_acquisition': 'category',\n",
       "   'data_date_merger_acquisition': 'date',\n",
       "   'data_num_merger_acquisition': 'number',\n",
       "   'geographic': 'category',\n",
       "   'index': 'category',\n",
       "   'sector': 'category'}}}"
      ]
     },
     "execution_count": 14,
     "metadata": {},
     "output_type": "execute_result"
    }
   ],
   "source": [
    "req.json()"
   ]
  },
  {
   "cell_type": "code",
   "execution_count": null,
   "metadata": {
    "collapsed": true
   },
   "outputs": [],
   "source": []
  },
  {
   "cell_type": "code",
   "execution_count": 5,
   "metadata": {},
   "outputs": [
    {
     "name": "stdout",
     "output_type": "stream",
     "text": [
      "200\n"
     ]
    }
   ],
   "source": [
    "# Test exploration\n",
    "dic = {'random': True, \n",
    "       'modifiers': ['--verbose']}\n",
    "req = requests.post(url=url_exploration, json=dic)\n",
    "print(req.status_code)"
   ]
  },
  {
   "cell_type": "code",
   "execution_count": 6,
   "metadata": {},
   "outputs": [
    {
     "name": "stdout",
     "output_type": "stream",
     "text": [
      "Overview - dataframes structures\n",
      "\n",
      "merger_acquisition<class 'pandas.core.frame.DataFrame'>\n",
      "RangeIndex: 50 entries, 0 to 49\n",
      "Data columns (total 9 columns):\n",
      "creation_date                          50 non-null datetime64[ns]\n",
      "data_bool2                             44 non-null object\n",
      "data_bool_merger_acquisition           43 non-null object\n",
      "data_categorical_merger_acquisition    50 non-null object\n",
      "data_date_merger_acquisition           50 non-null datetime64[ns]\n",
      "data_num_merger_acquisition            50 non-null float64\n",
      "geographic                             44 non-null object\n",
      "index                                  45 non-null object\n",
      "sector                                 46 non-null object\n",
      "dtypes: datetime64[ns](2), float64(1), object(6)\n",
      "memory usage: 3.6+ KB\n",
      "\n",
      "buy_back<class 'pandas.core.frame.DataFrame'>\n",
      "RangeIndex: 50 entries, 0 to 49\n",
      "Data columns (total 9 columns):\n",
      "creation_date                50 non-null datetime64[ns]\n",
      "data_bool2                   47 non-null object\n",
      "data_bool_buy_back           48 non-null object\n",
      "data_categorical_buy_back    50 non-null object\n",
      "data_date_buy_back           50 non-null datetime64[ns]\n",
      "data_num_buy_back            50 non-null float64\n",
      "geographic                   42 non-null object\n",
      "index                        45 non-null object\n",
      "sector                       42 non-null object\n",
      "dtypes: datetime64[ns](2), float64(1), object(6)\n",
      "memory usage: 3.6+ KB\n",
      "\n"
     ]
    }
   ],
   "source": [
    "print(req.json()['res'])"
   ]
  },
  {
   "cell_type": "code",
   "execution_count": 7,
   "metadata": {},
   "outputs": [
    {
     "name": "stdout",
     "output_type": "stream",
     "text": [
      "200\n"
     ]
    }
   ],
   "source": [
    "# Test exploration\n",
    "dic = {'random': True, \n",
    "       'modifiers': ['--verbose'],\n",
    "       'db_name': 'buy_back'}\n",
    "req = requests.post(url=url_exploration, json=dic)\n",
    "print(req.status_code)"
   ]
  },
  {
   "cell_type": "code",
   "execution_count": 8,
   "metadata": {},
   "outputs": [
    {
     "name": "stdout",
     "output_type": "stream",
     "text": [
      "Overview - dataframes structures\n",
      "\n",
      "buy_back<class 'pandas.core.frame.DataFrame'>\n",
      "RangeIndex: 50 entries, 0 to 49\n",
      "Data columns (total 9 columns):\n",
      "creation_date                50 non-null datetime64[ns]\n",
      "data_bool2                   47 non-null object\n",
      "data_bool_buy_back           48 non-null object\n",
      "data_categorical_buy_back    50 non-null object\n",
      "data_date_buy_back           50 non-null datetime64[ns]\n",
      "data_num_buy_back            50 non-null float64\n",
      "geographic                   42 non-null object\n",
      "index                        45 non-null object\n",
      "sector                       42 non-null object\n",
      "dtypes: datetime64[ns](2), float64(1), object(6)\n",
      "memory usage: 3.6+ KB\n",
      "\n",
      "This is a verbose line - to be replaced by something interesting.\n"
     ]
    }
   ],
   "source": [
    "print(req.json()['res'])"
   ]
  },
  {
   "cell_type": "code",
   "execution_count": 9,
   "metadata": {},
   "outputs": [
    {
     "name": "stdout",
     "output_type": "stream",
     "text": [
      "200\n"
     ]
    }
   ],
   "source": [
    "# Test exploration\n",
    "dic = {'random':True, \n",
    "       'modifiers':['--verbose'],\n",
    "       'db_name':'buy_back',\n",
    "       'db_field_name':'data_date_buy_back'}\n",
    "req = requests.post(url=url_exploration, json=dic)\n",
    "print(req.status_code)"
   ]
  },
  {
   "cell_type": "code",
   "execution_count": 10,
   "metadata": {},
   "outputs": [
    {
     "data": {
      "text/plain": [
       "{'res': \"{'type': 'date', 'earliest': '2010-03-17', 'latest': '2015-07-24'}\"}"
      ]
     },
     "execution_count": 10,
     "metadata": {},
     "output_type": "execute_result"
    }
   ],
   "source": [
    "req.json()"
   ]
  },
  {
   "cell_type": "code",
   "execution_count": 11,
   "metadata": {},
   "outputs": [
    {
     "name": "stdout",
     "output_type": "stream",
     "text": [
      "200\n"
     ]
    }
   ],
   "source": [
    "# Test compute\n",
    "dic = {'random':True, \n",
    "       'db_name':'buy_back',\n",
    "       'geographic':'France',\n",
    "        'sector': 'industry',\n",
    "        'computation':'sum',\n",
    "        'main_field':'data_num_buy_back'}\n",
    "req = requests.post(url=url_compute, json=dic)\n",
    "print(req.status_code)"
   ]
  },
  {
   "cell_type": "code",
   "execution_count": 12,
   "metadata": {},
   "outputs": [
    {
     "data": {
      "text/plain": [
       "{'res': 0.7832743617741068}"
      ]
     },
     "execution_count": 12,
     "metadata": {},
     "output_type": "execute_result"
    }
   ],
   "source": [
    "req.json()"
   ]
  },
  {
   "cell_type": "code",
   "execution_count": null,
   "metadata": {
    "collapsed": true
   },
   "outputs": [],
   "source": []
  }
 ],
 "metadata": {
  "kernelspec": {
   "display_name": "Python 3",
   "language": "python",
   "name": "python3"
  },
  "language_info": {
   "codemirror_mode": {
    "name": "ipython",
    "version": 3
   },
   "file_extension": ".py",
   "mimetype": "text/x-python",
   "name": "python",
   "nbconvert_exporter": "python",
   "pygments_lexer": "ipython3",
   "version": "3.6.1"
  }
 },
 "nbformat": 4,
 "nbformat_minor": 2
}
